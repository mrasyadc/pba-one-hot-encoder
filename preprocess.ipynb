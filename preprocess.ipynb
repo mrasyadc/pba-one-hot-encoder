{
 "cells": [
  {
   "cell_type": "code",
   "execution_count": 51,
   "metadata": {
    "collapsed": true,
    "pycharm": {
     "name": "#%%\n"
    }
   },
   "outputs": [],
   "source": [
    "import json\n",
    "import csv"
   ]
  },
  {
   "cell_type": "code",
   "execution_count": 53,
   "outputs": [
    {
     "name": "stderr",
     "output_type": "stream",
     "text": [
      "IOPub data rate exceeded.\n",
      "The notebook server will temporarily stop sending output\n",
      "to the client in order to avoid crashing it.\n",
      "To change this limit, set the config variable\n",
      "`--NotebookApp.iopub_data_rate_limit`.\n",
      "\n",
      "Current values:\n",
      "NotebookApp.iopub_data_rate_limit=1000000.0 (bytes/sec)\n",
      "NotebookApp.rate_limit_window=3.0 (secs)\n",
      "\n"
     ]
    }
   ],
   "source": [
    "# Opening JSON file\n",
    "f = open('dataset.json')\n",
    "# returns JSON object as \n",
    "# a dictionary\n",
    "data = json.load(f)\n",
    "# Iterating through the json\n",
    "# list\n",
    "f.close()\n",
    "count = 0\n",
    "\n",
    "rows = []\n",
    "label_list = ['Pasien', 'Usia pasien', 'Penyakit', 'Gejala', 'Kapan', 'Periode', 'Tindakan', 'Outcome', 'Pertanyaan', 'Pembuka', 'Penyebab', 'Prakondisi', 'Objek', 'Penutup', 'Referensi', 'Artikel', 'Pengukuran', 'Predikat']\n",
    "headers = ['id', 'text', 'annotator', 'annotation_id', 'created_at', 'updated_at', 'lead_time'] + label_list\n",
    "print(headers)\n",
    "for task in data:\n",
    "    # print(i)\n",
    "    print(str(count) + \" : \")\n",
    "\n",
    "    label_inside_task = set()\n",
    "\n",
    "    print(task)\n",
    "\n",
    "    text = task['text']\n",
    "    annotator = task['annotator']\n",
    "    annotation_id = task['annotation_id']\n",
    "    created_at = task['created_at']\n",
    "    updated_at = task['updated_at']\n",
    "    lead_time = task['lead_time']\n",
    "    id = str(annotation_id) + '-' + str(annotator)\n",
    "\n",
    "    out_list = [id, text, annotator, annotation_id, created_at, updated_at, lead_time]\n",
    "\n",
    "    if 'label' in task:\n",
    "        for labelled_text in task['label']:\n",
    "            label = labelled_text['labels'][0]\n",
    "            start_label_index = str(labelled_text['start'])\n",
    "            end_label_index = str(labelled_text['end'])\n",
    "            # print('start = ' + start_label_index + \" end = \" + end_label_index)\n",
    "            print('label = ' + label)\n",
    "            label_inside_task.add(label)\n",
    "\n",
    "        one_hot_encoding = []\n",
    "        for lbl in label_list:\n",
    "            if lbl in label_inside_task:\n",
    "                one_hot_encoding.append(1)\n",
    "            else:\n",
    "                one_hot_encoding.append(0)\n",
    "        out_list = out_list + one_hot_encoding\n",
    "    # print(one_hot_encoding)\n",
    "    else:\n",
    "        one_hot_encoding = [0] * len(label_list)\n",
    "        out_list = out_list + one_hot_encoding\n",
    "        # print(one_hot_encoding)\n",
    "\n",
    "    count = count + 1\n",
    "\n",
    "    rows.append(out_list)\n",
    "    print(rows)\n",
    "    # if count == 5: break\n"
   ],
   "metadata": {
    "collapsed": false,
    "pycharm": {
     "name": "#%%\n"
    }
   }
  },
  {
   "cell_type": "code",
   "execution_count": 54,
   "outputs": [],
   "source": [
    "with open('dataset.csv', 'w', encoding='UTF8', newline='') as f:\n",
    "    writer = csv.writer(f)\n",
    "\n",
    "    # write the header\n",
    "    writer.writerow(headers)\n",
    "\n",
    "    # write multiple rows\n",
    "    writer.writerows(rows)"
   ],
   "metadata": {
    "collapsed": false,
    "pycharm": {
     "name": "#%%\n"
    }
   }
  },
  {
   "cell_type": "code",
   "execution_count": null,
   "outputs": [],
   "source": [],
   "metadata": {
    "collapsed": false,
    "pycharm": {
     "name": "#%%\n"
    }
   }
  }
 ],
 "metadata": {
  "kernelspec": {
   "display_name": "Python 3",
   "language": "python",
   "name": "python3"
  },
  "language_info": {
   "codemirror_mode": {
    "name": "ipython",
    "version": 2
   },
   "file_extension": ".py",
   "mimetype": "text/x-python",
   "name": "python",
   "nbconvert_exporter": "python",
   "pygments_lexer": "ipython2",
   "version": "2.7.6"
  }
 },
 "nbformat": 4,
 "nbformat_minor": 0
}